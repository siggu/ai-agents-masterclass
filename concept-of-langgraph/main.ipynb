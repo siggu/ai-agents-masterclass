{
 "cells": [
  {
   "cell_type": "code",
   "execution_count": 7,
   "id": "325ec460",
   "metadata": {},
   "outputs": [],
   "source": [
    "from langgraph.graph import StateGraph, START, END\n",
    "from typing_extensions import TypedDict\n",
    "from typing import Literal"
   ]
  },
  {
   "cell_type": "code",
   "execution_count": 8,
   "id": "40fc9441",
   "metadata": {},
   "outputs": [],
   "source": [
    "class State(TypedDict):\n",
    "    seed: int\n",
    "\n",
    "graph_builder = StateGraph(State)"
   ]
  },
  {
   "cell_type": "code",
   "execution_count": 9,
   "id": "f44873f0",
   "metadata": {},
   "outputs": [],
   "source": [
    "def node_first(state):\n",
    "    print(\"node_first\", state)\n",
    "    return {}\n",
    "\n",
    "def node_second(state):\n",
    "    print(\"node_second\", state)\n",
    "    return {}\n",
    "\n",
    "def node_third(state):\n",
    "    print(\"node_third\", state)\n",
    "    return {}\n",
    "\n",
    "\n",
    "def node_fourth(state):\n",
    "    print(\"node_fourth\", state)\n",
    "    return {}"
   ]
  },
  {
   "cell_type": "code",
   "execution_count": 10,
   "id": "4d0884b2",
   "metadata": {},
   "outputs": [
    {
     "data": {
      "text/plain": [
       "<langgraph.graph.state.StateGraph at 0x1ab903b3750>"
      ]
     },
     "execution_count": 10,
     "metadata": {},
     "output_type": "execute_result"
    }
   ],
   "source": [
    "graph_builder.add_node(\"node_first\", node_first)\n",
    "graph_builder.add_node(\"node_second\", node_second)\n",
    "graph_builder.add_node(\"node_third\", node_third)\n",
    "graph_builder.add_node(\"node_fourth\", node_fourth)\n",
    "\n",
    "# def decide_path(state: State) -> Literal[\"node_third\", \"node_fourth\"]:\n",
    "#     if state[\"seed\"] % 2 == 0:\n",
    "#         return \"node_third\"\n",
    "#     else:\n",
    "#         return \"node_fourth\"\n",
    "\n",
    "def decide_path(state: State):\n",
    "    return state[\"seed\"] % 2 == 0\n",
    "\n",
    "graph_builder.add_edge(START, \"node_first\")\n",
    "graph_builder.add_edge(\"node_first\", \"node_second\")\n",
    "graph_builder.add_conditional_edges(\n",
    "    \"node_second\", \n",
    "    decide_path, \n",
    "    {\n",
    "        True: \"node_third\", \n",
    "        False: \"node_fourth\",\n",
    "        \"hello\": END,\n",
    "     },\n",
    ")\n",
    "graph_builder.add_edge(\"node_third\", END)\n",
    "graph_builder.add_edge(\"node_fourth\", END)"
   ]
  },
  {
   "cell_type": "code",
   "execution_count": null,
   "id": "c042289c",
   "metadata": {},
   "outputs": [
    {
     "name": "stdout",
     "output_type": "stream",
     "text": [
      "node_first {'seed': 1}\n",
      "node_second {'seed': 1}\n",
      "node_fourth {'seed': 1}\n"
     ]
    },
    {
     "data": {
      "text/plain": [
       "{'seed': 1}"
      ]
     },
     "execution_count": 11,
     "metadata": {},
     "output_type": "execute_result"
    }
   ],
   "source": [
    "graph = graph_builder.compile()\n",
    "\n",
    "# graph\n",
    "\n",
    "graph.invoke({\"seed\": 2})"
   ]
  }
 ],
 "metadata": {
  "kernelspec": {
   "display_name": "concept-of-langgraph",
   "language": "python",
   "name": "python3"
  },
  "language_info": {
   "codemirror_mode": {
    "name": "ipython",
    "version": 3
   },
   "file_extension": ".py",
   "mimetype": "text/x-python",
   "name": "python",
   "nbconvert_exporter": "python",
   "pygments_lexer": "ipython3",
   "version": "3.13.5"
  }
 },
 "nbformat": 4,
 "nbformat_minor": 5
}
