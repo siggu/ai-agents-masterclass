{
 "cells": [
  {
   "cell_type": "code",
   "execution_count": 36,
   "id": "325ec460",
   "metadata": {},
   "outputs": [],
   "source": [
    "from langgraph.graph import StateGraph, START, END\n",
    "from typing_extensions import TypedDict"
   ]
  },
  {
   "cell_type": "code",
   "execution_count": 37,
   "id": "40fc9441",
   "metadata": {},
   "outputs": [],
   "source": [
    "class PrivateState(TypedDict):\n",
    "    a: int\n",
    "    b: int\n",
    "\n",
    "\n",
    "class InputState(TypedDict):\n",
    "    hello: str\n",
    "\n",
    "\n",
    "class OutputState(TypedDict):\n",
    "    bye: str\n",
    "    \n",
    "\n",
    "class MegaPrivateState(TypedDict):\n",
    "    secret: bool\n",
    "\n",
    "\n",
    "graph_builder = StateGraph(\n",
    "    PrivateState,\n",
    "    input_schema=InputState,\n",
    "    output_schema=OutputState,\n",
    ")"
   ]
  },
  {
   "cell_type": "code",
   "execution_count": 38,
   "id": "f44873f0",
   "metadata": {},
   "outputs": [],
   "source": [
    "def node_first(state: InputState) -> InputState:\n",
    "    print(\"node_first\", state)\n",
    "    return {\n",
    "        \"hello\": \"world\"\n",
    "    }\n",
    "\n",
    "\n",
    "def node_second(state: PrivateState) -> PrivateState:\n",
    "    print(\"node_second\", state)\n",
    "    return {\n",
    "        \"a\": 1,\n",
    "    }\n",
    "\n",
    "\n",
    "def node_third(state: PrivateState) -> PrivateState:\n",
    "    print(\"node_third\", state)\n",
    "    return {\n",
    "        \"b\": 10,\n",
    "    }\n",
    "\n",
    "\n",
    "def node_fourth(state: PrivateState) -> OutputState:\n",
    "    print(\"node_fourth\", state)\n",
    "    return {\n",
    "        \"bye\": \"world\"\n",
    "    }\n",
    "\n",
    "def node_fifth(state: OutputState) -> MegaPrivateState:\n",
    "    return {\n",
    "        \"secret\": True\n",
    "    }\n",
    "\n",
    "def node_sixth(state: MegaPrivateState):\n",
    "    print(\"node_sixth\", state)"
   ]
  },
  {
   "cell_type": "code",
   "execution_count": 39,
   "id": "4d0884b2",
   "metadata": {},
   "outputs": [
    {
     "data": {
      "text/plain": [
       "<langgraph.graph.state.StateGraph at 0x2a02d2f9f20>"
      ]
     },
     "execution_count": 39,
     "metadata": {},
     "output_type": "execute_result"
    }
   ],
   "source": [
    "graph_builder.add_node(\"node_first\", node_first)\n",
    "graph_builder.add_node(\"node_second\", node_second)\n",
    "graph_builder.add_node(\"node_third\", node_third)\n",
    "graph_builder.add_node(\"node_fourth\", node_fourth)\n",
    "graph_builder.add_node(\"node_fifth\", node_fifth)\n",
    "graph_builder.add_node(\"node_sixth\", node_sixth)\n",
    "\n",
    "graph_builder.add_edge(START, \"node_first\")\n",
    "graph_builder.add_edge(\"node_first\", \"node_second\")\n",
    "graph_builder.add_edge(\"node_second\", \"node_third\")\n",
    "graph_builder.add_edge(\"node_third\", \"node_fourth\")\n",
    "graph_builder.add_edge(\"node_fourth\", \"node_fifth\")\n",
    "graph_builder.add_edge(\"node_fifth\", \"node_sixth\")\n",
    "graph_builder.add_edge(\"node_sixth\", END)"
   ]
  },
  {
   "cell_type": "code",
   "execution_count": 40,
   "id": "c042289c",
   "metadata": {},
   "outputs": [
    {
     "name": "stdout",
     "output_type": "stream",
     "text": [
      "node_first {'hello': 'world!!!'}\n",
      "node_second {}\n",
      "node_third {'a': 1}\n",
      "node_fourth {'a': 1, 'b': 10}\n",
      "node_sixth {'secret': True}\n",
      "result:  {'bye': 'world'}\n"
     ]
    }
   ],
   "source": [
    "graph = graph_builder.compile()\n",
    "\n",
    "# graph\n",
    "\n",
    "result = graph.invoke({\"hello\": \"world!!!\"})\n",
    "\n",
    "print(\"result: \", result)"
   ]
  }
 ],
 "metadata": {
  "kernelspec": {
   "display_name": ".venv",
   "language": "python",
   "name": "python3"
  },
  "language_info": {
   "codemirror_mode": {
    "name": "ipython",
    "version": 3
   },
   "file_extension": ".py",
   "mimetype": "text/x-python",
   "name": "python",
   "nbconvert_exporter": "python",
   "pygments_lexer": "ipython3",
   "version": "3.13.5"
  }
 },
 "nbformat": 4,
 "nbformat_minor": 5
}
