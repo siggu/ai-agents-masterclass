{
 "cells": [
  {
   "cell_type": "code",
   "execution_count": 91,
   "id": "325ec460",
   "metadata": {},
   "outputs": [],
   "source": [
    "from langgraph.graph import StateGraph, START, END\n",
    "from typing_extensions import TypedDict\n",
    "from langgraph.types import CachePolicy\n",
    "from langgraph.cache.memory import InMemoryCache\n",
    "from datetime import datetime"
   ]
  },
  {
   "cell_type": "code",
   "execution_count": 92,
   "id": "40fc9441",
   "metadata": {},
   "outputs": [],
   "source": [
    "class State(TypedDict):\n",
    "    time: str\n",
    "\n",
    "graph_builder = StateGraph(State)"
   ]
  },
  {
   "cell_type": "code",
   "execution_count": 93,
   "id": "f44873f0",
   "metadata": {},
   "outputs": [],
   "source": [
    "def node_first(state):\n",
    "    # print(\"node_first\", state)\n",
    "    return {}\n",
    "\n",
    "def node_second(state):\n",
    "    # print(\"node_second\", state)\n",
    "    return {\"time\": f\"{datetime.now()}\"}\n",
    "\n",
    "\n",
    "def node_third(state):\n",
    "    # print(\"node_third\", state)\n",
    "    return {}\n",
    "\n",
    "\n",
    "def node_fourth(state):\n",
    "    # print(\"node_fourth\", state)\n",
    "    return {}\n",
    "\n",
    "\n",
    "def node_fifth(state):\n",
    "    return {}\n",
    "\n",
    "\n",
    "def node_sixth(state):\n",
    "    # print(\"node_sixth\", state)\n",
    "    return {}"
   ]
  },
  {
   "cell_type": "code",
   "execution_count": 94,
   "id": "4d0884b2",
   "metadata": {},
   "outputs": [
    {
     "data": {
      "text/plain": [
       "<langgraph.graph.state.StateGraph at 0x2a02ff49e90>"
      ]
     },
     "execution_count": 94,
     "metadata": {},
     "output_type": "execute_result"
    }
   ],
   "source": [
    "graph_builder.add_node(\"node_first\", node_first)\n",
    "graph_builder.add_node(\"node_second\", node_second, cache_policy=CachePolicy(ttl=20))\n",
    "graph_builder.add_node(\"node_third\", node_third)\n",
    "graph_builder.add_node(\"node_fourth\", node_fourth)\n",
    "graph_builder.add_node(\"node_fifth\", node_fifth)\n",
    "graph_builder.add_node(\"node_sixth\", node_sixth)\n",
    "\n",
    "graph_builder.add_edge(START, \"node_first\")\n",
    "graph_builder.add_edge(\"node_first\", \"node_second\")\n",
    "graph_builder.add_edge(\"node_second\", \"node_third\")\n",
    "graph_builder.add_edge(\"node_third\", \"node_fourth\")\n",
    "graph_builder.add_edge(\"node_fourth\", \"node_fifth\")\n",
    "graph_builder.add_edge(\"node_fifth\", \"node_sixth\")\n",
    "graph_builder.add_edge(\"node_sixth\", END)"
   ]
  },
  {
   "cell_type": "code",
   "execution_count": 95,
   "id": "c042289c",
   "metadata": {},
   "outputs": [
    {
     "name": "stdout",
     "output_type": "stream",
     "text": [
      "{'time': '2025-10-08 21:56:58.273778'}\n",
      "{'time': '2025-10-08 21:56:58.273778'}\n",
      "{'time': '2025-10-08 21:56:58.273778'}\n",
      "{'time': '2025-10-08 21:56:58.273778'}\n",
      "{'time': '2025-10-08 21:57:18.297878'}\n",
      "{'time': '2025-10-08 21:57:18.297878'}\n"
     ]
    }
   ],
   "source": [
    "import time\n",
    "graph = graph_builder.compile(cache=InMemoryCache())\n",
    "\n",
    "print(graph.invoke({}))\n",
    "time.sleep(5)\n",
    "print(graph.invoke({}))\n",
    "time.sleep(5)\n",
    "print(graph.invoke({}))\n",
    "time.sleep(5)\n",
    "print(graph.invoke({}))\n",
    "time.sleep(5)\n",
    "print(graph.invoke({}))\n",
    "time.sleep(5)\n",
    "print(graph.invoke({}))\n",
    "time.sleep(5)"
   ]
  }
 ],
 "metadata": {
  "kernelspec": {
   "display_name": ".venv",
   "language": "python",
   "name": "python3"
  },
  "language_info": {
   "codemirror_mode": {
    "name": "ipython",
    "version": 3
   },
   "file_extension": ".py",
   "mimetype": "text/x-python",
   "name": "python",
   "nbconvert_exporter": "python",
   "pygments_lexer": "ipython3",
   "version": "3.13.5"
  }
 },
 "nbformat": 4,
 "nbformat_minor": 5
}
