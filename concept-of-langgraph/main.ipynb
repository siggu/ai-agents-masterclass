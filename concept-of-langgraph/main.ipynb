{
 "cells": [
  {
   "cell_type": "code",
   "execution_count": 2,
   "id": "325ec460",
   "metadata": {},
   "outputs": [],
   "source": [
    "from langgraph.graph import StateGraph, START, END\n",
    "from typing_extensions import TypedDict"
   ]
  },
  {
   "cell_type": "code",
   "execution_count": 3,
   "id": "40fc9441",
   "metadata": {},
   "outputs": [],
   "source": [
    "class State(TypedDict):\n",
    "    hello: str\n",
    "    \n",
    "graph_builder = StateGraph(State)"
   ]
  },
  {
   "cell_type": "code",
   "execution_count": 4,
   "id": "f44873f0",
   "metadata": {},
   "outputs": [],
   "source": [
    "def node_first(state: State):\n",
    "    print(\"node_first\")\n",
    "\n",
    "def node_second(state: State):\n",
    "    print(\"node_second\")\n",
    "\n",
    "def node_third(state: State):\n",
    "    print(\"node_third\")"
   ]
  },
  {
   "cell_type": "code",
   "execution_count": 5,
   "id": "4d0884b2",
   "metadata": {},
   "outputs": [
    {
     "data": {
      "text/plain": [
       "<langgraph.graph.state.StateGraph at 0x1ff85412900>"
      ]
     },
     "execution_count": 5,
     "metadata": {},
     "output_type": "execute_result"
    }
   ],
   "source": [
    "graph_builder.add_node(\"node_first\", node_first)\n",
    "graph_builder.add_node(\"node_second\", node_second)\n",
    "graph_builder.add_node(\"node_third\", node_third)\n",
    "\n",
    "graph_builder.add_edge(START, \"node_first\")\n",
    "graph_builder.add_edge(\"node_first\", \"node_second\")\n",
    "graph_builder.add_edge(\"node_second\", \"node_third\")\n",
    "graph_builder.add_edge(\"node_third\", END)"
   ]
  },
  {
   "cell_type": "code",
   "execution_count": 8,
   "id": "c042289c",
   "metadata": {},
   "outputs": [
    {
     "name": "stdout",
     "output_type": "stream",
     "text": [
      "node_first\n",
      "node_second\n",
      "node_third\n"
     ]
    }
   ],
   "source": [
    "graph = graph_builder.compile()\n",
    "\n",
    "graph.invoke({})"
   ]
  }
 ],
 "metadata": {
  "kernelspec": {
   "display_name": ".venv",
   "language": "python",
   "name": "python3"
  },
  "language_info": {
   "codemirror_mode": {
    "name": "ipython",
    "version": 3
   },
   "file_extension": ".py",
   "mimetype": "text/x-python",
   "name": "python",
   "nbconvert_exporter": "python",
   "pygments_lexer": "ipython3",
   "version": "3.13.5"
  }
 },
 "nbformat": 4,
 "nbformat_minor": 5
}
