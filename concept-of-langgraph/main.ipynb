{
 "cells": [
  {
   "cell_type": "code",
   "execution_count": 49,
   "id": "325ec460",
   "metadata": {},
   "outputs": [],
   "source": [
    "from langgraph.graph import StateGraph, START, END\n",
    "from typing_extensions import TypedDict, Annotated\n",
    "from langgraph.types import Command"
   ]
  },
  {
   "cell_type": "code",
   "execution_count": 50,
   "id": "40fc9441",
   "metadata": {},
   "outputs": [],
   "source": [
    "class State(TypedDict):\n",
    "    transfer_reason: str\n",
    "\n",
    "graph_builder = StateGraph(State)"
   ]
  },
  {
   "cell_type": "code",
   "execution_count": 51,
   "id": "f44873f0",
   "metadata": {},
   "outputs": [],
   "source": [
    "def triage_node(state: State):\n",
    "    return Command(\n",
    "        goto=\"account_support\",\n",
    "        update={\n",
    "            \"transfer_reason\": \"The customer has an issue with their account.\"\n",
    "        }\n",
    "    )\n",
    "\n",
    "def tech_support(state: State):\n",
    "    return {}\n",
    "\n",
    "def account_support(state: State):\n",
    "    print(\"Handling account issue:\", state[\"transfer_reason\"])\n",
    "    return {}"
   ]
  },
  {
   "cell_type": "code",
   "execution_count": 52,
   "id": "4d0884b2",
   "metadata": {},
   "outputs": [
    {
     "data": {
      "text/plain": [
       "<langgraph.graph.state.StateGraph at 0x1ab91b39d10>"
      ]
     },
     "execution_count": 52,
     "metadata": {},
     "output_type": "execute_result"
    }
   ],
   "source": [
    "graph_builder.add_node(\"triage_node\", triage_node)\n",
    "graph_builder.add_node(\"tech_support\", tech_support)\n",
    "graph_builder.add_node(\"account_support\", account_support)\n",
    "\n",
    "graph_builder.add_edge(START, \"triage_node\")\n",
    "graph_builder.add_edge(\"tech_support\", END)\n",
    "graph_builder.add_edge(\"account_support\", END)"
   ]
  },
  {
   "cell_type": "code",
   "execution_count": 53,
   "id": "c042289c",
   "metadata": {},
   "outputs": [
    {
     "name": "stdout",
     "output_type": "stream",
     "text": [
      "Handling account issue: The customer has an issue with their account.\n"
     ]
    },
    {
     "data": {
      "text/plain": [
       "{'transfer_reason': 'The customer has an issue with their account.'}"
      ]
     },
     "execution_count": 53,
     "metadata": {},
     "output_type": "execute_result"
    }
   ],
   "source": [
    "graph = graph_builder.compile()\n",
    "\n",
    "graph.invoke({})"
   ]
  }
 ],
 "metadata": {
  "kernelspec": {
   "display_name": "concept-of-langgraph",
   "language": "python",
   "name": "python3"
  },
  "language_info": {
   "codemirror_mode": {
    "name": "ipython",
    "version": 3
   },
   "file_extension": ".py",
   "mimetype": "text/x-python",
   "name": "python",
   "nbconvert_exporter": "python",
   "pygments_lexer": "ipython3",
   "version": "3.13.5"
  }
 },
 "nbformat": 4,
 "nbformat_minor": 5
}
