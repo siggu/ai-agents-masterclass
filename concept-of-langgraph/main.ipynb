{
 "cells": [
  {
   "cell_type": "code",
   "execution_count": 34,
   "id": "325ec460",
   "metadata": {},
   "outputs": [],
   "source": [
    "from langgraph.graph import StateGraph, START, END\n",
    "from typing_extensions import TypedDict"
   ]
  },
  {
   "cell_type": "code",
   "execution_count": 35,
   "id": "40fc9441",
   "metadata": {},
   "outputs": [],
   "source": [
    "class State(TypedDict):\n",
    "    hello: str\n",
    "    bye: str\n",
    "    \n",
    "graph_builder = StateGraph(State)"
   ]
  },
  {
   "cell_type": "code",
   "execution_count": 36,
   "id": "f44873f0",
   "metadata": {},
   "outputs": [],
   "source": [
    "def node_first(state: State):\n",
    "    print(\"node_first\", state)\n",
    "    return {\n",
    "        \"hello\": \"from node_first\",\n",
    "        \"bye\": \"from node_first\",\n",
    "    }\n",
    "\n",
    "def node_second(state: State):\n",
    "    print(\"node_second\", state)\n",
    "    return {\n",
    "        \"hello\": \"from node_second\"\n",
    "    }\n",
    "\n",
    "def node_third(state: State):\n",
    "    print(\"node_third\", state)\n",
    "    return {\n",
    "        \"hello\": \"from node_third\"\n",
    "    }"
   ]
  },
  {
   "cell_type": "code",
   "execution_count": 37,
   "id": "4d0884b2",
   "metadata": {},
   "outputs": [
    {
     "data": {
      "text/plain": [
       "<langgraph.graph.state.StateGraph at 0x1ff85808f50>"
      ]
     },
     "execution_count": 37,
     "metadata": {},
     "output_type": "execute_result"
    }
   ],
   "source": [
    "graph_builder.add_node(\"node_first\", node_first)\n",
    "graph_builder.add_node(\"node_second\", node_second)\n",
    "graph_builder.add_node(\"node_third\", node_third)\n",
    "\n",
    "graph_builder.add_edge(START, \"node_first\")\n",
    "graph_builder.add_edge(\"node_first\", \"node_second\")\n",
    "graph_builder.add_edge(\"node_second\", \"node_third\")\n",
    "graph_builder.add_edge(\"node_third\", END)"
   ]
  },
  {
   "cell_type": "code",
   "execution_count": 38,
   "id": "c042289c",
   "metadata": {},
   "outputs": [
    {
     "name": "stdout",
     "output_type": "stream",
     "text": [
      "node_first {'hello': 'world'}\n",
      "node_second {'hello': 'from node_first', 'bye': 'from node_first'}\n",
      "node_third {'hello': 'from node_second', 'bye': 'from node_first'}\n",
      "result:  {'hello': 'from node_third', 'bye': 'from node_first'}\n"
     ]
    }
   ],
   "source": [
    "graph = graph_builder.compile()\n",
    "\n",
    "result = graph.invoke({\"hello\": \"world\"})\n",
    "\n",
    "print(\"result: \", result)"
   ]
  }
 ],
 "metadata": {
  "kernelspec": {
   "display_name": ".venv",
   "language": "python",
   "name": "python3"
  },
  "language_info": {
   "codemirror_mode": {
    "name": "ipython",
    "version": 3
   },
   "file_extension": ".py",
   "mimetype": "text/x-python",
   "name": "python",
   "nbconvert_exporter": "python",
   "pygments_lexer": "ipython3",
   "version": "3.13.5"
  }
 },
 "nbformat": 4,
 "nbformat_minor": 5
}
