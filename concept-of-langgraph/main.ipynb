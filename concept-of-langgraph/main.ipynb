{
 "cells": [
  {
   "cell_type": "code",
   "execution_count": 81,
   "id": "325ec460",
   "metadata": {},
   "outputs": [],
   "source": [
    "from langgraph.graph import StateGraph, START, END\n",
    "from typing_extensions import TypedDict\n",
    "from typing import Annotated\n",
    "import operator"
   ]
  },
  {
   "cell_type": "code",
   "execution_count": 82,
   "id": "40fc9441",
   "metadata": {},
   "outputs": [],
   "source": [
    "def update_function(old, new):\n",
    "    return old + new\n",
    "\n",
    "class State(TypedDict):\n",
    "    # messages: Annotated[list[str], update_function]\n",
    "    messages: Annotated[list[str], operator.add]\n",
    "\n",
    "\n",
    "graph_builder = StateGraph(State)"
   ]
  },
  {
   "cell_type": "code",
   "execution_count": 83,
   "id": "f44873f0",
   "metadata": {},
   "outputs": [],
   "source": [
    "def node_first(state):\n",
    "    # print(\"node_first\", state)\n",
    "    return {\n",
    "        \"messages\": [\"Hello, nice to meet you!\"]\n",
    "    }\n",
    "\n",
    "\n",
    "def node_second(state):\n",
    "    # print(\"node_second\", state)\n",
    "    return {}\n",
    "\n",
    "\n",
    "def node_third(state):\n",
    "    # print(\"node_third\", state)\n",
    "    return {}\n",
    "\n",
    "\n",
    "def node_fourth(state):\n",
    "    # print(\"node_fourth\", state)\n",
    "    return {}\n",
    "\n",
    "\n",
    "def node_fifth(state):\n",
    "    return {}\n",
    "\n",
    "\n",
    "def node_sixth(state):\n",
    "    # print(\"node_sixth\", state)\n",
    "    return {}"
   ]
  },
  {
   "cell_type": "code",
   "execution_count": 84,
   "id": "4d0884b2",
   "metadata": {},
   "outputs": [
    {
     "data": {
      "text/plain": [
       "<langgraph.graph.state.StateGraph at 0x2a02f7d4110>"
      ]
     },
     "execution_count": 84,
     "metadata": {},
     "output_type": "execute_result"
    }
   ],
   "source": [
    "graph_builder.add_node(\"node_first\", node_first)\n",
    "graph_builder.add_node(\"node_second\", node_second)\n",
    "graph_builder.add_node(\"node_third\", node_third)\n",
    "graph_builder.add_node(\"node_fourth\", node_fourth)\n",
    "graph_builder.add_node(\"node_fifth\", node_fifth)\n",
    "graph_builder.add_node(\"node_sixth\", node_sixth)\n",
    "\n",
    "graph_builder.add_edge(START, \"node_first\")\n",
    "graph_builder.add_edge(\"node_first\", \"node_second\")\n",
    "graph_builder.add_edge(\"node_second\", \"node_third\")\n",
    "graph_builder.add_edge(\"node_third\", \"node_fourth\")\n",
    "graph_builder.add_edge(\"node_fourth\", \"node_fifth\")\n",
    "graph_builder.add_edge(\"node_fifth\", \"node_sixth\")\n",
    "graph_builder.add_edge(\"node_sixth\", END)"
   ]
  },
  {
   "cell_type": "code",
   "execution_count": 85,
   "id": "c042289c",
   "metadata": {},
   "outputs": [
    {
     "data": {
      "text/plain": [
       "{'messages': ['Hello!', 'Hello, nice to meet you!']}"
      ]
     },
     "execution_count": 85,
     "metadata": {},
     "output_type": "execute_result"
    }
   ],
   "source": [
    "graph = graph_builder.compile()\n",
    "\n",
    "graph.invoke(\n",
    "    {\"messages\": [\"Hello!\"]}\n",
    ")"
   ]
  }
 ],
 "metadata": {
  "kernelspec": {
   "display_name": ".venv",
   "language": "python",
   "name": "python3"
  },
  "language_info": {
   "codemirror_mode": {
    "name": "ipython",
    "version": 3
   },
   "file_extension": ".py",
   "mimetype": "text/x-python",
   "name": "python",
   "nbconvert_exporter": "python",
   "pygments_lexer": "ipython3",
   "version": "3.13.5"
  }
 },
 "nbformat": 4,
 "nbformat_minor": 5
}
