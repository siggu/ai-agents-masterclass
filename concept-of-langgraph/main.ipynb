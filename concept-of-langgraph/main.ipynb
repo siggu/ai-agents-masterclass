{
 "cells": [
  {
   "cell_type": "code",
   "execution_count": 1,
   "id": "325ec460",
   "metadata": {},
   "outputs": [],
   "source": [
    "import sqlite3\n",
    "from langgraph.graph import StateGraph, START, END\n",
    "from langchain.chat_models import init_chat_model\n",
    "from langgraph.graph.message import MessagesState\n",
    "from langgraph.checkpoint.sqlite import SqliteSaver\n",
    "\n",
    "\n",
    "import os\n",
    "from dotenv import load_dotenv\n",
    "\n",
    "load_dotenv()\n",
    "\n",
    "api_key = os.getenv(\"OPENAI_API_KEY\")\n",
    "\n",
    "llm = init_chat_model(\"openai:gpt-4o-mini\", openai_api_key=api_key)\n",
    "\n",
    "conn = sqlite3.connect(\"memory.db\", check_same_thread=False)\n",
    "\n",
    "config = {\n",
    "    \"configurable\": {\n",
    "        \"thread_id\": \"1\",\n",
    "    }\n",
    "}"
   ]
  },
  {
   "cell_type": "code",
   "execution_count": 2,
   "id": "40fc9441",
   "metadata": {},
   "outputs": [],
   "source": [
    "class State(MessagesState):\n",
    "    pass\n",
    "\n",
    "\n",
    "graph_builder = StateGraph(State)"
   ]
  },
  {
   "cell_type": "code",
   "execution_count": 3,
   "id": "c19fc5eb",
   "metadata": {},
   "outputs": [],
   "source": [
    "def chatbot(state: State):\n",
    "    response = llm.invoke(state[\"messages\"])\n",
    "    return {\n",
    "        \"messages\": [response],\n",
    "    }"
   ]
  },
  {
   "cell_type": "code",
   "execution_count": 4,
   "id": "c042289c",
   "metadata": {},
   "outputs": [],
   "source": [
    "graph_builder.add_node(\"chatbot\", chatbot)\n",
    "\n",
    "\n",
    "graph_builder.add_edge(START, \"chatbot\")\n",
    "graph_builder.add_edge(\"chatbot\", END)\n",
    "\n",
    "graph = graph_builder.compile(\n",
    "    checkpointer=SqliteSaver(conn),\n",
    ")"
   ]
  },
  {
   "cell_type": "code",
   "execution_count": null,
   "id": "b78a38fb",
   "metadata": {},
   "outputs": [],
   "source": [
    "result = graph.invoke(\n",
    "    {\n",
    "        \"messages\": [\n",
    "            {\"role\": \"user\", \"content\": \"\"},\n",
    "        ],\n",
    "    },\n",
    "    config=config,\n",
    ")"
   ]
  },
  {
   "cell_type": "code",
   "execution_count": 8,
   "id": "2b28d3d0",
   "metadata": {},
   "outputs": [
    {
     "name": "stdout",
     "output_type": "stream",
     "text": [
      "================================\u001b[1m Human Message \u001b[0m=================================\n",
      "\n",
      "Hello my name is Jeongmok.\n",
      "==================================\u001b[1m Ai Message \u001b[0m==================================\n",
      "\n",
      "Hello, Jeongmok! How can I assist you today?\n",
      "================================\u001b[1m Human Message \u001b[0m=================================\n",
      "\n",
      "I live in hwaseong-si\n",
      "==================================\u001b[1m Ai Message \u001b[0m==================================\n",
      "\n",
      "That’s great! Hwaseong-si is known for its beautiful sights and rich history. Do you have any specific questions or topics you’d like to discuss about your city or anything else?\n"
     ]
    }
   ],
   "source": [
    "for message in result[\"messages\"]:\n",
    "    message.pretty_print()"
   ]
  },
  {
   "cell_type": "code",
   "execution_count": 13,
   "id": "1339720c",
   "metadata": {},
   "outputs": [],
   "source": [
    "state_history = graph.get_state_history(config)"
   ]
  },
  {
   "cell_type": "code",
   "execution_count": 14,
   "id": "8961ad96",
   "metadata": {},
   "outputs": [
    {
     "name": "stdout",
     "output_type": "stream",
     "text": [
      "()\n",
      "[HumanMessage(content='Hello my name is Jeongmok.', additional_kwargs={}, response_metadata={}, id='add87475-c33e-49b3-80ce-a8fb6cf10f59'), AIMessage(content='Hello, Jeongmok! How can I assist you today?', additional_kwargs={'refusal': None}, response_metadata={'token_usage': {'completion_tokens': 13, 'prompt_tokens': 15, 'total_tokens': 28, 'completion_tokens_details': {'accepted_prediction_tokens': 0, 'audio_tokens': 0, 'reasoning_tokens': 0, 'rejected_prediction_tokens': 0}, 'prompt_tokens_details': {'audio_tokens': 0, 'cached_tokens': 0}}, 'model_name': 'gpt-4o-mini-2024-07-18', 'system_fingerprint': 'fp_51db84afab', 'id': 'chatcmpl-CPlVpJGXIwhDuakBSDL4PKz3ItOIs', 'service_tier': 'default', 'finish_reason': 'stop', 'logprobs': None}, id='run--e38cf984-6487-47df-9c9e-8774bc3b3c19-0', usage_metadata={'input_tokens': 15, 'output_tokens': 13, 'total_tokens': 28, 'input_token_details': {'audio': 0, 'cache_read': 0}, 'output_token_details': {'audio': 0, 'reasoning': 0}}), HumanMessage(content='I live in hwaseong-si', additional_kwargs={}, response_metadata={}, id='ece006c2-99a1-4d59-81fd-b3721d3fdbed'), AIMessage(content='That’s great! Hwaseong-si is known for its beautiful sights and rich history. Do you have any specific questions or topics you’d like to discuss about your city or anything else?', additional_kwargs={'refusal': None}, response_metadata={'token_usage': {'completion_tokens': 38, 'prompt_tokens': 43, 'total_tokens': 81, 'completion_tokens_details': {'accepted_prediction_tokens': 0, 'audio_tokens': 0, 'reasoning_tokens': 0, 'rejected_prediction_tokens': 0}, 'prompt_tokens_details': {'audio_tokens': 0, 'cached_tokens': 0}}, 'model_name': 'gpt-4o-mini-2024-07-18', 'system_fingerprint': 'fp_560af6e559', 'id': 'chatcmpl-CPlXKy9NJbjvFXDEEKMcAV6Zzl2E3', 'service_tier': 'default', 'finish_reason': 'stop', 'logprobs': None}, id='run--51acbdc9-8bb4-4ec9-acde-c46bf1311d63-0', usage_metadata={'input_tokens': 43, 'output_tokens': 38, 'total_tokens': 81, 'input_token_details': {'audio': 0, 'cache_read': 0}, 'output_token_details': {'audio': 0, 'reasoning': 0}})]\n",
      "===================\n",
      "\n",
      "('chatbot',)\n",
      "[HumanMessage(content='Hello my name is Jeongmok.', additional_kwargs={}, response_metadata={}, id='add87475-c33e-49b3-80ce-a8fb6cf10f59'), AIMessage(content='Hello, Jeongmok! How can I assist you today?', additional_kwargs={'refusal': None}, response_metadata={'token_usage': {'completion_tokens': 13, 'prompt_tokens': 15, 'total_tokens': 28, 'completion_tokens_details': {'accepted_prediction_tokens': 0, 'audio_tokens': 0, 'reasoning_tokens': 0, 'rejected_prediction_tokens': 0}, 'prompt_tokens_details': {'audio_tokens': 0, 'cached_tokens': 0}}, 'model_name': 'gpt-4o-mini-2024-07-18', 'system_fingerprint': 'fp_51db84afab', 'id': 'chatcmpl-CPlVpJGXIwhDuakBSDL4PKz3ItOIs', 'service_tier': 'default', 'finish_reason': 'stop', 'logprobs': None}, id='run--e38cf984-6487-47df-9c9e-8774bc3b3c19-0', usage_metadata={'input_tokens': 15, 'output_tokens': 13, 'total_tokens': 28, 'input_token_details': {'audio': 0, 'cache_read': 0}, 'output_token_details': {'audio': 0, 'reasoning': 0}}), HumanMessage(content='I live in hwaseong-si', additional_kwargs={}, response_metadata={}, id='ece006c2-99a1-4d59-81fd-b3721d3fdbed')]\n",
      "===================\n",
      "\n",
      "('__start__',)\n",
      "[HumanMessage(content='Hello my name is Jeongmok.', additional_kwargs={}, response_metadata={}, id='add87475-c33e-49b3-80ce-a8fb6cf10f59'), AIMessage(content='Hello, Jeongmok! How can I assist you today?', additional_kwargs={'refusal': None}, response_metadata={'token_usage': {'completion_tokens': 13, 'prompt_tokens': 15, 'total_tokens': 28, 'completion_tokens_details': {'accepted_prediction_tokens': 0, 'audio_tokens': 0, 'reasoning_tokens': 0, 'rejected_prediction_tokens': 0}, 'prompt_tokens_details': {'audio_tokens': 0, 'cached_tokens': 0}}, 'model_name': 'gpt-4o-mini-2024-07-18', 'system_fingerprint': 'fp_51db84afab', 'id': 'chatcmpl-CPlVpJGXIwhDuakBSDL4PKz3ItOIs', 'service_tier': 'default', 'finish_reason': 'stop', 'logprobs': None}, id='run--e38cf984-6487-47df-9c9e-8774bc3b3c19-0', usage_metadata={'input_tokens': 15, 'output_tokens': 13, 'total_tokens': 28, 'input_token_details': {'audio': 0, 'cache_read': 0}, 'output_token_details': {'audio': 0, 'reasoning': 0}})]\n",
      "===================\n",
      "\n",
      "()\n",
      "[HumanMessage(content='Hello my name is Jeongmok.', additional_kwargs={}, response_metadata={}, id='add87475-c33e-49b3-80ce-a8fb6cf10f59'), AIMessage(content='Hello, Jeongmok! How can I assist you today?', additional_kwargs={'refusal': None}, response_metadata={'token_usage': {'completion_tokens': 13, 'prompt_tokens': 15, 'total_tokens': 28, 'completion_tokens_details': {'accepted_prediction_tokens': 0, 'audio_tokens': 0, 'reasoning_tokens': 0, 'rejected_prediction_tokens': 0}, 'prompt_tokens_details': {'audio_tokens': 0, 'cached_tokens': 0}}, 'model_name': 'gpt-4o-mini-2024-07-18', 'system_fingerprint': 'fp_51db84afab', 'id': 'chatcmpl-CPlVpJGXIwhDuakBSDL4PKz3ItOIs', 'service_tier': 'default', 'finish_reason': 'stop', 'logprobs': None}, id='run--e38cf984-6487-47df-9c9e-8774bc3b3c19-0', usage_metadata={'input_tokens': 15, 'output_tokens': 13, 'total_tokens': 28, 'input_token_details': {'audio': 0, 'cache_read': 0}, 'output_token_details': {'audio': 0, 'reasoning': 0}})]\n",
      "===================\n",
      "\n",
      "('chatbot',)\n",
      "[HumanMessage(content='Hello my name is Jeongmok.', additional_kwargs={}, response_metadata={}, id='add87475-c33e-49b3-80ce-a8fb6cf10f59')]\n",
      "===================\n",
      "\n",
      "('__start__',)\n",
      "[]\n",
      "===================\n",
      "\n"
     ]
    }
   ],
   "source": [
    "for state_snapshot in list(state_history):\n",
    "    print(state_snapshot.next)\n",
    "    print(state_snapshot.values[\"messages\"])\n",
    "    print(\"===================\\n\")"
   ]
  },
  {
   "cell_type": "code",
   "execution_count": 17,
   "id": "9d1112b2",
   "metadata": {},
   "outputs": [
    {
     "data": {
      "text/plain": [
       "[HumanMessage(content='Hello my name is Jeongmok.', additional_kwargs={}, response_metadata={}, id='add87475-c33e-49b3-80ce-a8fb6cf10f59'),\n",
       " AIMessage(content='Hello, Jeongmok! How can I assist you today?', additional_kwargs={'refusal': None}, response_metadata={'token_usage': {'completion_tokens': 13, 'prompt_tokens': 15, 'total_tokens': 28, 'completion_tokens_details': {'accepted_prediction_tokens': 0, 'audio_tokens': 0, 'reasoning_tokens': 0, 'rejected_prediction_tokens': 0}, 'prompt_tokens_details': {'audio_tokens': 0, 'cached_tokens': 0}}, 'model_name': 'gpt-4o-mini-2024-07-18', 'system_fingerprint': 'fp_51db84afab', 'id': 'chatcmpl-CPlVpJGXIwhDuakBSDL4PKz3ItOIs', 'service_tier': 'default', 'finish_reason': 'stop', 'logprobs': None}, id='run--e38cf984-6487-47df-9c9e-8774bc3b3c19-0', usage_metadata={'input_tokens': 15, 'output_tokens': 13, 'total_tokens': 28, 'input_token_details': {'audio': 0, 'cache_read': 0}, 'output_token_details': {'audio': 0, 'reasoning': 0}}),\n",
       " HumanMessage(content='I live in hwaseong-si', additional_kwargs={}, response_metadata={}, id='ece006c2-99a1-4d59-81fd-b3721d3fdbed')]"
      ]
     },
     "execution_count": 17,
     "metadata": {},
     "output_type": "execute_result"
    }
   ],
   "source": [
    "state_history = graph.get_state_history(config)\n",
    "\n",
    "to_fork = list(state_history)[-5]\n",
    "\n",
    "to_fork.values[\"messages\"]"
   ]
  },
  {
   "cell_type": "code",
   "execution_count": 19,
   "id": "46074878",
   "metadata": {},
   "outputs": [
    {
     "data": {
      "text/plain": [
       "{'configurable': {'thread_id': '1',\n",
       "  'checkpoint_ns': '',\n",
       "  'checkpoint_id': '1f0a747a-6fee-66ad-8004-fc0113dd6251'}}"
      ]
     },
     "execution_count": 19,
     "metadata": {},
     "output_type": "execute_result"
    }
   ],
   "source": [
    "from langchain_core.messages import HumanMessage\n",
    "\n",
    "graph.update_state(\n",
    "    to_fork.config,\n",
    "    {\n",
    "        \"messages\": HumanMessage(\n",
    "            content=\"I live in seoul-si\",\n",
    "            id=\"ece006c2-99a1-4d59-81fd-b3721d3fdbed\",\n",
    "        )\n",
    "    },\n",
    ")"
   ]
  },
  {
   "cell_type": "code",
   "execution_count": 21,
   "id": "f8ff4991",
   "metadata": {},
   "outputs": [
    {
     "data": {
      "text/plain": [
       "[HumanMessage(content='Hello my name is Jeongmok.', additional_kwargs={}, response_metadata={}, id='add87475-c33e-49b3-80ce-a8fb6cf10f59'),\n",
       " AIMessage(content='Hello, Jeongmok! How can I assist you today?', additional_kwargs={'refusal': None}, response_metadata={'token_usage': {'completion_tokens': 13, 'prompt_tokens': 15, 'total_tokens': 28, 'completion_tokens_details': {'accepted_prediction_tokens': 0, 'audio_tokens': 0, 'reasoning_tokens': 0, 'rejected_prediction_tokens': 0}, 'prompt_tokens_details': {'audio_tokens': 0, 'cached_tokens': 0}}, 'model_name': 'gpt-4o-mini-2024-07-18', 'system_fingerprint': 'fp_51db84afab', 'id': 'chatcmpl-CPlVpJGXIwhDuakBSDL4PKz3ItOIs', 'service_tier': 'default', 'finish_reason': 'stop', 'logprobs': None}, id='run--e38cf984-6487-47df-9c9e-8774bc3b3c19-0', usage_metadata={'input_tokens': 15, 'output_tokens': 13, 'total_tokens': 28, 'input_token_details': {'audio': 0, 'cache_read': 0}, 'output_token_details': {'audio': 0, 'reasoning': 0}}),\n",
       " HumanMessage(content='I live in seoul-si', additional_kwargs={}, response_metadata={}, id='ece006c2-99a1-4d59-81fd-b3721d3fdbed')]"
      ]
     },
     "execution_count": 21,
     "metadata": {},
     "output_type": "execute_result"
    }
   ],
   "source": [
    "forked_state = graph.get_state_history(\n",
    "    {\n",
    "        \"configurable\": {\n",
    "            \"thread_id\": \"1\",\n",
    "            \"checkpoint_ns\": \"\",\n",
    "            \"checkpoint_id\": \"1f0a747a-6fee-66ad-8004-fc0113dd6251\",\n",
    "        }\n",
    "    }\n",
    ")\n",
    "\n",
    "list(forked_state)[-1].values[\"messages\"]"
   ]
  },
  {
   "cell_type": "code",
   "execution_count": 22,
   "id": "731c3dde",
   "metadata": {},
   "outputs": [
    {
     "name": "stdout",
     "output_type": "stream",
     "text": [
      "================================\u001b[1m Human Message \u001b[0m=================================\n",
      "\n",
      "Hello my name is Jeongmok.\n",
      "==================================\u001b[1m Ai Message \u001b[0m==================================\n",
      "\n",
      "Hello, Jeongmok! How can I assist you today?\n",
      "================================\u001b[1m Human Message \u001b[0m=================================\n",
      "\n",
      "I live in seoul-si\n",
      "==================================\u001b[1m Ai Message \u001b[0m==================================\n",
      "\n",
      "That's great! Seoul-si is a vibrant city with a rich history and culture. Is there something specific you’d like to talk about or ask regarding Seoul or anything else?\n"
     ]
    }
   ],
   "source": [
    "result = graph.invoke(\n",
    "    None,\n",
    "    {\n",
    "        \"configurable\": {\n",
    "            \"thread_id\": \"1\",\n",
    "            \"checkpoint_ns\": \"\",\n",
    "            \"checkpoint_id\": \"1f0a747a-6fee-66ad-8004-fc0113dd6251\",\n",
    "        }\n",
    "    },\n",
    ")\n",
    "\n",
    "for message in result[\"messages\"]:\n",
    "    message.pretty_print()"
   ]
  }
 ],
 "metadata": {
  "kernelspec": {
   "display_name": "concept-of-langgraph",
   "language": "python",
   "name": "python3"
  },
  "language_info": {
   "codemirror_mode": {
    "name": "ipython",
    "version": 3
   },
   "file_extension": ".py",
   "mimetype": "text/x-python",
   "name": "python",
   "nbconvert_exporter": "python",
   "pygments_lexer": "ipython3",
   "version": "3.13.5"
  }
 },
 "nbformat": 4,
 "nbformat_minor": 5
}
