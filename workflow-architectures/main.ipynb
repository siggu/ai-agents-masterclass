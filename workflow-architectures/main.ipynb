{
 "cells": [
  {
   "cell_type": "code",
   "execution_count": 18,
   "id": "f745f466",
   "metadata": {},
   "outputs": [],
   "source": [
    "from typing import TypedDict, List\n",
    "from dotenv import load_dotenv\n",
    "from langgraph.graph import StateGraph, START, END\n",
    "from langchain.chat_models import init_chat_model\n",
    "from pydantic import BaseModel\n",
    "\n",
    "load_dotenv()\n",
    "\n",
    "llm = init_chat_model(\"openai:gpt-4o-mini\")"
   ]
  },
  {
   "cell_type": "code",
   "execution_count": 19,
   "id": "f6a92426",
   "metadata": {},
   "outputs": [],
   "source": [
    "class State(TypedDict):\n",
    "    dish: str\n",
    "    ingredients: list[dict]\n",
    "    recipe_steps: str\n",
    "    plating_instructions: str\n",
    "\n",
    "\n",
    "class Ingredient(BaseModel):\n",
    "    name: str\n",
    "    quitantity: str\n",
    "    unit: str\n",
    "\n",
    "\n",
    "class IngredientsOutput(BaseModel):\n",
    "    ingredients: List[Ingredient]"
   ]
  },
  {
   "cell_type": "code",
   "execution_count": 20,
   "id": "9855b5b1",
   "metadata": {},
   "outputs": [],
   "source": [
    "def list_ingredients(state: State):\n",
    "    structured_llm = llm.with_structured_output(IngredientsOutput)\n",
    "    response = structured_llm.invoke(\n",
    "        f\"{state['dish']} 음식을 만들기 위한 5개에서 8개의 재료 이름을 나열해 주세요.\"\n",
    "    )\n",
    "    return {\"ingredients\": response.ingredients}\n",
    "\n",
    "\n",
    "def create_recipe(state: State):\n",
    "    response = llm.invoke(\n",
    "        f\"{state['dish']} 요리를 만들기 위한 단계별 조리법을 작성해 주세요. 재료는 다음과 같습니다: {state['ingredients']}\"\n",
    "    )\n",
    "    return {\"recipe_steps\": response.content}\n",
    "\n",
    "\n",
    "def describe_plating(state: State):\n",
    "    response = llm.invoke(\n",
    "        f\"{state['dish']}를 멋지게 플레이팅하는 방법 다음 레시피를 기반으로 설명해 주세요: {state['recipe_steps']}\"\n",
    "    )\n",
    "    return {\"plating_instructions\": response.content}"
   ]
  },
  {
   "cell_type": "code",
   "execution_count": 21,
   "id": "376fac2b",
   "metadata": {},
   "outputs": [],
   "source": [
    "graph_builder = StateGraph(State)\n",
    "\n",
    "graph_builder.add_node(\"list_ingredients\", list_ingredients)\n",
    "graph_builder.add_node(\"create_recipe\", create_recipe)\n",
    "graph_builder.add_node(\"describe_plating\", describe_plating)\n",
    "\n",
    "graph_builder.add_edge(START, \"list_ingredients\")\n",
    "graph_builder.add_edge(\"list_ingredients\", \"create_recipe\")\n",
    "graph_builder.add_edge(\"create_recipe\", \"describe_plating\")\n",
    "graph_builder.add_edge(\"describe_plating\", END)\n",
    "\n",
    "graph = graph_builder.compile()"
   ]
  },
  {
   "cell_type": "code",
   "execution_count": 22,
   "id": "2e6fca20",
   "metadata": {},
   "outputs": [
    {
     "data": {
      "text/plain": [
       "{'dish': 'hummus',\n",
       " 'ingredients': [Ingredient(name='병아리콩', quitantity='1', unit='컵'),\n",
       "  Ingredient(name='타히니', quitantity='1/4', unit='컵'),\n",
       "  Ingredient(name='올리브 오일', quitantity='3', unit='테이블스푼'),\n",
       "  Ingredient(name='레몬 주스', quitantity='3', unit='테이블스푼'),\n",
       "  Ingredient(name='다진 마늘', quitantity='2', unit='쪽'),\n",
       "  Ingredient(name='소금', quitantity='1/2', unit='티스푼'),\n",
       "  Ingredient(name='물', quitantity='2-3', unit='테이블스푼'),\n",
       "  Ingredient(name='큐민 (선택사항)', quitantity='1/2', unit='티스푼')],\n",
       " 'recipe_steps': '허무스(hummus) 만드는 방법을 단계별로 설명드리겠습니다. 아래 조리법을 따라 주시면 맛있는 허무스를 만들 수 있습니다!\\n\\n### 필요 재료\\n- 병아리콩: 1컵\\n- 타히니: 1/4컵\\n- 올리브 오일: 3 테이블스푼\\n- 레몬 주스: 3 테이블스푼\\n- 다진 마늘: 2쪽\\n- 소금: 1/2 티스푼\\n- 물: 2-3 테이블스푼\\n- 큐민 (선택사항): 1/2 티스푼\\n\\n### 조리 단계\\n\\n1. **병아리콩 준비하기**  \\n   - 병아리콩을 하룻밤 동안 물에 담가서 불려줍니다.  \\n   - 다음 날, 불린 병아리콩을 체에 받쳐 물기를 제거합니다.\\n\\n2. **병아리콩 삶기**  \\n   - 큰 냄비에 물을 채우고 병아리콩을 넣어 끓입니다.  \\n   - 끓기 시작하면 불을 줄이고 중하火로 45분에서 1시간 정도 삶아줍니다.  \\n   - 병아리콩이 부드러워지면 체에 받쳐 물기를 제거한 후, 식힙니다.\\n\\n3. **믹서에 재료 넣기**  \\n   - 믹서기나 푸드 프로세서에 삶은 병아리콩, 타히니, 올리브 오일, 레몬 주스, 다진 마늘, 소금, (선택적으로 큐민)을 넣습니다.\\n\\n4. **재료 갈기**  \\n   - 모든 재료를 갈면서 물을 추가합니다.  \\n   - 제일 먼저 2 테이블스푼의 물을 넣고 섞습니다. 필요에 따라 더 많은 물을 추가하여 원하는 질감이 나오도록 합니다.\\n\\n5. **맛 조절하기**  \\n   - 갈아낸 허무스를 맛보고 필요에 따라 소금이나 레몬 주스, 올리브 오일을 추가해 맛을 조절합니다.\\n\\n6. **서빙하기**  \\n   - 완성된 허무스를 그릇에 담아 올리브 오일을 뿌리고, 원하신다면 파프리카 가루나 잘게 썬 허브로 장식하세요.  \\n   - 빵, 채소 또는 크래커와 함께 즐기시면 좋습니다.\\n\\n### 팁\\n- 병아리콩을 더 부드럽게 만들고 싶으시면 껍질을 벗기고 사용해도 좋습니다.\\n- 허무스는 냉장고에서 3-5일 정도 보관할 수 있습니다.\\n\\n맛있는 허무스를 만들어 보시기 바랍니다!',\n",
       " 'plating_instructions': '맛있는 허무스를 멋지게 플레이팅하는 방법에 대해 설명해 드리겠습니다! 플레이팅은 허무스의 비주얼을 강조하고, 함께 제공할 재료와 조화를 이루는 것이 중요합니다. 아래 단계에 따라 플레이팅 해보세요:\\n\\n### 플레이팅 준비하기\\n\\n1. **쓰는 그릇 선택하기**  \\n   - 허무스를 담을 그릇은 깊고 넓은 형태가 좋습니다. 예를 들어, 낮고 넓은 샐러드 그릇이나 세라믹 스푼이 예쁘게 보이는 접시를 선택하세요.\\n\\n2. **허무스 준비하기**  \\n   - 허무스가 완성되면, 사용하는 도구(숟가락 등)가 아닌, 스푼이나 주걱을 사용하여 그릇에 부드럽게 담습니다.\\n\\n### 플레이팅 단계\\n\\n3. **허무스 담기**  \\n   - 그릇의 가운데에 허무스를 놓고, 숟가락으로 허무스를 원형으로 펼쳐 줍니다. 그러면 자연스럽게 가운데가 부풀어 오르며 볼륨감이 더해집니다.\\n\\n4. **올리브 오일 뿌리기**  \\n   - 완성된 허무스 위에 올리브 오일을 몇 방울 떨어뜨립니다. 올리브 오일은 허무스의 색을 더욱 돋보이게 하고 풍미를 더해 줍니다. 원형 형태를 따라서 뿌리면 더욱 아름답습니다.\\n\\n5. **장식 추가하기**  \\n   - 허무스 위에 파프리카 가루를 뿌려 대비를 줍니다.  \\n   - 다진 허브(파슬리, 고수 등)를 올려 색감을 추가합니다. 허브를 고르게 뿌려서 깔끔하게 보이도록 합니다.\\n   - 추가로, 슬라이스한 올리브, 구운 피스타치오, 혹은 마른 토마토를 올려 장식하면 더욱 화려해집니다.\\n\\n6. **사이드와 함께 서빙하기**  \\n   - 플레이팅한 허무스 주위에 바게뜨, 피타 브레드, 또는 다양한 채소 스틱(당근, 셀러리, 오이 등)을 예쁘게 배치합니다.  \\n   - 크래커나 치즈를 함께 두어 다채로운 선택을 제공합니다.\\n\\n### 마무리\\n\\n7. **서빙 준비 완료**  \\n   - 마지막으로 그릇 주변을 깨끗이 닦아서 깔끔한 이미지를 유지합니다.  \\n   - 식탁에 놓을 때는 색이 잘 드러나며 눈에 띌 수 있도록 위치를 조정합니다.\\n\\n이렇게 플레이팅한 허무스는 미각뿐만 아니라 시각적으로도 사람들을 매료시킬 것입니다. 맛있게 드세요!'}"
      ]
     },
     "execution_count": 22,
     "metadata": {},
     "output_type": "execute_result"
    }
   ],
   "source": [
    "graph.invoke({\"dish\": \"hummus\"})"
   ]
  }
 ],
 "metadata": {
  "kernelspec": {
   "display_name": "workflow-architectures",
   "language": "python",
   "name": "python3"
  },
  "language_info": {
   "codemirror_mode": {
    "name": "ipython",
    "version": 3
   },
   "file_extension": ".py",
   "mimetype": "text/x-python",
   "name": "python",
   "nbconvert_exporter": "python",
   "pygments_lexer": "ipython3",
   "version": "3.13.5"
  }
 },
 "nbformat": 4,
 "nbformat_minor": 5
}
