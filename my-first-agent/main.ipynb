{
 "cells": [
  {
   "cell_type": "code",
   "execution_count": null,
   "id": "eb37169d",
   "metadata": {},
   "outputs": [],
   "source": [
    "import openai, json\n",
    "import os\n",
    "from dotenv import load_dotenv\n",
    "\n",
    "load_dotenv()\n",
    "\n",
    "api_key = os.getenv(\"OPENAI_API_KEY\")\n",
    "client = openai.OpenAI(api_key=api_key)\n",
    "\n",
    "messages = []"
   ]
  },
  {
   "cell_type": "code",
   "execution_count": 17,
   "id": "37d254a2",
   "metadata": {},
   "outputs": [],
   "source": [
    "def get_weather(city):\n",
    "    return '30도.'\n",
    "\n",
    "FUNCTION_MAP = {\n",
    "    'get_weather': get_weather\n",
    "}"
   ]
  },
  {
   "cell_type": "code",
   "execution_count": 18,
   "id": "8f077e3f",
   "metadata": {},
   "outputs": [],
   "source": [
    "TOOLS = [\n",
    "    {\n",
    "        \"type\": \"function\",\n",
    "        \"function\": {\n",
    "            \"name\": \"get_weather\",\n",
    "            \"description\": \"A function to get the weather of a city.\",\n",
    "            \"parameters\": {\n",
    "                \"type\": \"object\",\n",
    "                \"properties\": {\n",
    "                    \"city\": {\n",
    "                        \"type\": \"string\",\n",
    "                        \"description\": \"The name of the city to get the weather of.\",\n",
    "                    },\n",
    "                },\n",
    "                \"required\": [\"city\"],\n",
    "            },\n",
    "        },\n",
    "\t},\n",
    "]"
   ]
  },
  {
   "cell_type": "code",
   "execution_count": null,
   "id": "d0376d99",
   "metadata": {},
   "outputs": [],
   "source": [
    "from openai.types.chat import ChatCompletionMessage\n",
    "\n",
    "\n",
    "def process_ai_response(message: ChatCompletionMessage):\n",
    "    if message.tool_calls > 0:\n",
    "        messages.append({\n",
    "            \"role\": \"assistant\",\n",
    "            \"content\": message.content or \"\",\n",
    "            \"tool_calls\": [\n",
    "                {\n",
    "                    \"id\": tool_call.id,\n",
    "                    \"type\": \"function\",\n",
    "                    \"function\": {\n",
    "                        \"name\": tool_call.function.name,\n",
    "                        \"arguments\": tool_call.function.arguments\n",
    "                    }    \n",
    "                } \n",
    "                for tool_call in message.tool_calls\n",
    "            ],\n",
    "        })\n",
    "        \n",
    "        for tool_call in message.tool_calls:\n",
    "            function_name= tool_call.function.name\n",
    "            arguments= tool_call.function.arguments\n",
    "            \n",
    "            print(f\"Calling function: {function_name} with {arguments}\")\n",
    "            \n",
    "            try:\n",
    "                arguments = json.loads(arguments)\n",
    "            except json.JSONDecodeError:\n",
    "                arguments = {}\n",
    "        \n",
    "            function_to_run = FUNCTION_MAP.get(function_name)\n",
    "            \n",
    "            result = function_to_run(**arguments)\n",
    "            \n",
    "            messages.append({\n",
    "                \"role\": \"tool\",\n",
    "                \"tool_call_id\": tool_call.id,\n",
    "                \"name\": function_name,\n",
    "                \"content\": result\n",
    "            })"
   ]
  },
  {
   "cell_type": "code",
   "execution_count": null,
   "id": "16583f65",
   "metadata": {},
   "outputs": [],
   "source": [
    "def call_ai():\n",
    "    response = client.chat.completions.create(\n",
    "        model=\"gpt-4o-mini\",\n",
    "        messages=messages,\n",
    "        tools=TOOLS\n",
    "    )\n",
    "    process_ai_response(response.choices[0].message)\n",
    "    print(response)\n",
    "    message = response.choices[0].message.content\n",
    "    messages.append({\n",
    "        \"role\": \"assistant\",\n",
    "        \"content\": message\n",
    "    })\n",
    "    print(f\"AI: {message}\")"
   ]
  },
  {
   "cell_type": "code",
   "execution_count": null,
   "id": "cbca6eb8",
   "metadata": {},
   "outputs": [],
   "source": [
    "while True:\n",
    "    message = input(\"Send a message to the LLM...\")\n",
    "    \n",
    "    if message == \"quit\" or message == \"q\":\n",
    "        break\n",
    "    \n",
    "    messages.append({\n",
    "        \"role\": \"user\",\n",
    "        \"content\": message\n",
    "    })\n",
    "    print(f\"User: {message}\")\n",
    "    \n",
    "    call_ai()"
   ]
  }
 ],
 "metadata": {
  "kernelspec": {
   "display_name": ".venv",
   "language": "python",
   "name": "python3"
  },
  "language_info": {
   "codemirror_mode": {
    "name": "ipython",
    "version": 3
   },
   "file_extension": ".py",
   "mimetype": "text/x-python",
   "name": "python",
   "nbconvert_exporter": "python",
   "pygments_lexer": "ipython3",
   "version": "3.13.5"
  }
 },
 "nbformat": 4,
 "nbformat_minor": 5
}
