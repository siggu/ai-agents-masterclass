{
 "cells": [
  {
   "cell_type": "code",
   "execution_count": 15,
   "id": "82c8457a",
   "metadata": {},
   "outputs": [],
   "source": [
    "import os\n",
    "from dotenv import load_dotenv\n",
    "\n",
    "load_dotenv()\n",
    "\n",
    "api_key = os.getenv(\"OPENAI_API_KEY\")"
   ]
  },
  {
   "cell_type": "code",
   "execution_count": 16,
   "id": "066f42b5",
   "metadata": {},
   "outputs": [],
   "source": [
    "from agents import Agent, Runner, function_tool, SQLiteSession\n",
    "\n",
    "session = SQLiteSession(\"user_1\", \"ai-memory.db\")\n",
    "\n",
    "@function_tool\n",
    "def get_weather(city: str):\n",
    "    \"\"\"Get weather by city\"\"\"\n",
    "    return \"30도\"\n",
    "\n",
    "\n",
    "agent = Agent(\n",
    "    name=\"Assistant Agent\",\n",
    "    instructions=\"You are a helpful assistant. Use tools when needed to answer questions\",\n",
    "    tools=[get_weather],\n",
    ")"
   ]
  },
  {
   "cell_type": "code",
   "execution_count": 17,
   "id": "15ec7929",
   "metadata": {},
   "outputs": [
    {
     "name": "stdout",
     "output_type": "stream",
     "text": [
      "Your name is Jeongmok. Let me know if there’s anything else you’d like to ask or talk about!\n"
     ]
    }
   ],
   "source": [
    "result = await Runner.run(\n",
    "    agent,\n",
    "    \"What was my name again?\",\n",
    "    session=session,\n",
    ")\n",
    "\n",
    "print(result.final_output)"
   ]
  },
  {
   "cell_type": "code",
   "execution_count": 18,
   "id": "a812234c",
   "metadata": {},
   "outputs": [
    {
     "data": {
      "text/plain": [
       "[{'content': 'Hello how are you? My name is Jeongmok', 'role': 'user'},\n",
       " {'id': 'msg_03ac17b4b6aee3670068cad7d494188197b4b49c0b9a54aa7c',\n",
       "  'content': [{'annotations': [],\n",
       "    'text': \"Hello Jeongmok! I'm here and ready to help you with anything you need. How can I assist you today?\",\n",
       "    'type': 'output_text',\n",
       "    'logprobs': []}],\n",
       "  'role': 'assistant',\n",
       "  'status': 'completed',\n",
       "  'type': 'message'},\n",
       " {'content': 'I live in Korea', 'role': 'user'},\n",
       " {'id': 'msg_03ac17b4b6aee3670068cad814c9a08197b82ec2bb66bae0da',\n",
       "  'content': [{'annotations': [],\n",
       "    'text': 'That’s great, Jeongmok! Korea is a beautiful country with a rich culture and history. How can I assist you today? Is there something specific you’d like to know or talk about related to Korea or anything else?',\n",
       "    'type': 'output_text',\n",
       "    'logprobs': []}],\n",
       "  'role': 'assistant',\n",
       "  'status': 'completed',\n",
       "  'type': 'message'},\n",
       " {'content': 'What is the weather in the third biggest city of the country i live on',\n",
       "  'role': 'user'},\n",
       " {'arguments': '{\"city\":\"Incheon\"}',\n",
       "  'call_id': 'call_GDs1oRjtwam8Ev4AzQ2W1Mbz',\n",
       "  'name': 'get_weather',\n",
       "  'type': 'function_call',\n",
       "  'id': 'fc_03ac17b4b6aee3670068cad82d9e3c819798da252dac3632e3',\n",
       "  'status': 'completed'},\n",
       " {'call_id': 'call_GDs1oRjtwam8Ev4AzQ2W1Mbz',\n",
       "  'output': '30도',\n",
       "  'type': 'function_call_output'},\n",
       " {'id': 'msg_03ac17b4b6aee3670068cad830a93081979ccc8639940b5240',\n",
       "  'content': [{'annotations': [],\n",
       "    'text': 'The current weather in Incheon, which is the third largest city in South Korea, is 30°C. If you need more details about the weather, just let me know!',\n",
       "    'type': 'output_text',\n",
       "    'logprobs': []}],\n",
       "  'role': 'assistant',\n",
       "  'status': 'completed',\n",
       "  'type': 'message'},\n",
       " {'content': 'What was my name again?', 'role': 'user'},\n",
       " {'id': 'msg_03ac17b4b6aee3670068cad83f30688197b81941c366aebd7a',\n",
       "  'content': [{'annotations': [],\n",
       "    'text': 'Your name is Jeongmok. If you have any more questions or need assistance, feel free to ask!',\n",
       "    'type': 'output_text',\n",
       "    'logprobs': []}],\n",
       "  'role': 'assistant',\n",
       "  'status': 'completed',\n",
       "  'type': 'message'},\n",
       " {'content': 'What was my name again?', 'role': 'user'},\n",
       " {'id': 'msg_03ac17b4b6aee3670068cadc84bb6c8197b3a2d9397710cc67',\n",
       "  'content': [{'annotations': [],\n",
       "    'text': 'Your name is Jeongmok. Let me know if there’s anything else you’d like to ask or talk about!',\n",
       "    'type': 'output_text',\n",
       "    'logprobs': []}],\n",
       "  'role': 'assistant',\n",
       "  'status': 'completed',\n",
       "  'type': 'message'}]"
      ]
     },
     "execution_count": 18,
     "metadata": {},
     "output_type": "execute_result"
    }
   ],
   "source": [
    "await session.get_items()"
   ]
  }
 ],
 "metadata": {
  "kernelspec": {
   "display_name": ".venv",
   "language": "python",
   "name": "python3"
  },
  "language_info": {
   "codemirror_mode": {
    "name": "ipython",
    "version": 3
   },
   "file_extension": ".py",
   "mimetype": "text/x-python",
   "name": "python",
   "nbconvert_exporter": "python",
   "pygments_lexer": "ipython3",
   "version": "3.13.5"
  }
 },
 "nbformat": 4,
 "nbformat_minor": 5
}
