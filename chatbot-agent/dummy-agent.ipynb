{
 "cells": [
  {
   "cell_type": "code",
   "execution_count": 1,
   "id": "82c8457a",
   "metadata": {},
   "outputs": [],
   "source": [
    "import os\n",
    "from dotenv import load_dotenv\n",
    "\n",
    "load_dotenv()\n",
    "\n",
    "api_key = os.getenv(\"OPENAI_API_KEY\")"
   ]
  },
  {
   "cell_type": "code",
   "execution_count": 2,
   "id": "066f42b5",
   "metadata": {},
   "outputs": [],
   "source": [
    "from agents import Agent, Runner, SQLiteSession\n",
    "\n",
    "session = SQLiteSession(\"user_1\", \"ai-memory.db\")\n",
    "\n",
    "\n",
    "geography_agent = Agent(\n",
    "    name=\"Geo Expert Agent\",\n",
    "    instructions=\"You are a expert in geography, you answer questions related to them.\",\n",
    "    handoff_description=\"Use this to answer geography related questions.\",\n",
    ")\n",
    "economics_agent = Agent(\n",
    "    name=\"Economics Expert Agent\",\n",
    "    instructions=\"You are a expert in economics, you answer questions related to them.\",\n",
    "    handoff_description=\"Use this to answer economics questions.\",\n",
    ")\n",
    "\n",
    "main_agent = Agent(\n",
    "    name=\"Main Agent\",\n",
    "    instructions=\"You are a user facing agent. Transfer to the agent most capable of answering the user's question.\",\n",
    "    handoffs=[\n",
    "        economics_agent,\n",
    "        geography_agent,\n",
    "    ],\n",
    ")"
   ]
  },
  {
   "cell_type": "code",
   "execution_count": 3,
   "id": "15ec7929",
   "metadata": {},
   "outputs": [
    {
     "name": "stdout",
     "output_type": "stream",
     "text": [
      "Geo Expert Agent\n",
      "The second biggest city in Korea is Busan. It is a major port city located on the southeastern coast of the country and is known for its beautiful beaches, bustling markets, and vibrant culture.\n"
     ]
    }
   ],
   "source": [
    "result = await Runner.run(\n",
    "    main_agent,\n",
    "    \"What is the second biggest city in Korea?\",\n",
    "    session=session,\n",
    ")\n",
    "\n",
    "print(result.last_agent.name)\n",
    "print(result.final_output)"
   ]
  }
 ],
 "metadata": {
  "kernelspec": {
   "display_name": ".venv",
   "language": "python",
   "name": "python3"
  },
  "language_info": {
   "codemirror_mode": {
    "name": "ipython",
    "version": 3
   },
   "file_extension": ".py",
   "mimetype": "text/x-python",
   "name": "python",
   "nbconvert_exporter": "python",
   "pygments_lexer": "ipython3",
   "version": "3.13.5"
  }
 },
 "nbformat": 4,
 "nbformat_minor": 5
}
