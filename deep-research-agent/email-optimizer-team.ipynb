{
 "cells": [
  {
   "cell_type": "code",
   "execution_count": 16,
   "id": "c00039a4",
   "metadata": {},
   "outputs": [],
   "source": [
    "import os\n",
    "from dotenv import load_dotenv\n",
    "\n",
    "load_dotenv()\n",
    "\n",
    "api_key = os.getenv(\"OPENAI_API_KEY\")"
   ]
  },
  {
   "cell_type": "code",
   "execution_count": 17,
   "id": "6a7984c6",
   "metadata": {},
   "outputs": [],
   "source": [
    "from autogen_agentchat.teams import RoundRobinGroupChat\n",
    "from autogen_agentchat.agents import AssistantAgent\n",
    "from autogen_ext.models.openai import OpenAIChatCompletionClient\n",
    "from autogen_agentchat.conditions import MaxMessageTermination, TextMentionTermination\n",
    "from autogen_agentchat.ui import Console"
   ]
  },
  {
   "cell_type": "code",
   "execution_count": 18,
   "id": "eeddf749",
   "metadata": {},
   "outputs": [],
   "source": [
    "model = OpenAIChatCompletionClient(model=\"gpt-4o-mini\", api_key=api_key)\n",
    "\n",
    "clarity_agent = AssistantAgent(\n",
    "    \"ClarityAgent\",\n",
    "    model_client=model,\n",
    "    system_message=\"\"\"You are an expert editor focused on clarity and simplicity. \n",
    "            Your job is to eliminate ambiguity, redundancy, and make every sentence crisp and clear. \n",
    "            Don't worry about persuasion or tone — just make the message easy to read and understand.\"\"\",\n",
    ")\n",
    "\n",
    "tone_agent = AssistantAgent(\n",
    "    \"ToneAgent\",\n",
    "    model_client=model,\n",
    "    system_message=\"\"\"You are a communication coach focused on emotional tone and professionalism. \n",
    "            Your job is to make the email sound warm, confident, and human — while staying professional \n",
    "            and appropriate for the audience. Improve the emotional resonance, polish the phrasing, \n",
    "            and adjust any words that may come off as stiff, cold, or overly casual.\"\"\",\n",
    ")\n",
    "\n",
    "persuasion_agent = AssistantAgent(\n",
    "    \"PersuasionAgent\",\n",
    "    model_client=model,\n",
    "    system_message=\"\"\"You are a persuasion expert trained in marketing, behavioral psychology, \n",
    "            and copywriting. Your job is to enhance the email's persuasive power: improve call to action, structure arguments, and emphasize benefits. Remove weak or passive language.\"\"\",\n",
    ")\n",
    "\n",
    "synthesizer_agent = AssistantAgent(\n",
    "    \"SynthesizerAgent\",\n",
    "    model_client=model,\n",
    "    system_message=\"\"\"You are an advanced email-writing specialist. Your role is to read all \n",
    "            prior agent responses and revisions, and then **synthesize the best ideas** into a unified, \n",
    "            polished draft of the email. Focus on: Integrating clarity, tone, and persuasion improvements; \n",
    "            Ensuring coherence, fluency, and a natural voice; Creating a version that feels professional, \n",
    "            effective, and readable.\"\"\",\n",
    ")\n",
    "\n",
    "critic_agent = AssistantAgent(\n",
    "    \"CriticAgent\",\n",
    "    model_client=model,\n",
    "    system_message=\"\"\"You are an email quality evaluator. Your job is to perform a final review \n",
    "            of the synthesized email and determine if it meets professional standards. Review the email for: \n",
    "            Clarity and flow, appropriate professional tone, effective call-to-action, and overall coherence.\n",
    "            Be constructive but decisive. If the email has major flaws (unclear message, unprofessional tone, \n",
    "            or missing key elements), provide ONE specific improvement suggestion. If the email meets professional standards and communicates effectively, respond with 'The email meets professional standards.' followed by `TERMINATE` on a new line. You should only approve emails ar good enough for professional use, even if not perfect.\"\"\",\n",
    ")"
   ]
  },
  {
   "cell_type": "code",
   "execution_count": 19,
   "id": "deaa9aac",
   "metadata": {},
   "outputs": [],
   "source": [
    "text_termination = TextMentionTermination(\"TERMINATE\")\n",
    "max_messages_termination = MaxMessageTermination(max_messages=30)\n",
    "\n",
    "termination_condition = text_termination | max_messages_termination"
   ]
  },
  {
   "cell_type": "code",
   "execution_count": 20,
   "id": "0ac7440c",
   "metadata": {},
   "outputs": [
    {
     "name": "stdout",
     "output_type": "stream",
     "text": [
      "---------- TextMessage (user) ----------\n",
      "Hi! Im hungry, buy me lunch and invest in my business. Thanks.\n"
     ]
    },
    {
     "name": "stdout",
     "output_type": "stream",
     "text": [
      "---------- TextMessage (ClarityAgent) ----------\n",
      "Hello! I'm hungry. Please buy me lunch and invest in my business. Thank you.\n",
      "---------- TextMessage (ToneAgent) ----------\n",
      "Subject: A Quick Favor \n",
      "\n",
      "Hi there,\n",
      "\n",
      "I hope this message finds you well! I’m feeling a bit hungry today and was wondering if you might be willing to treat me to lunch. Additionally, I would greatly appreciate any support you could offer as I look to invest in my business.\n",
      "\n",
      "Thank you so much for considering my requests! I truly value your support.\n",
      "\n",
      "Best regards,  \n",
      "[Your Name]  \n",
      "---------- TextMessage (PersuasionAgent) ----------\n",
      "Subject: A Special Request to Fuel My Passion\n",
      "\n",
      "Hi [Recipient's Name],\n",
      "\n",
      "I hope this message finds you thriving! I’m reaching out with a couple of requests that could make a significant difference for me.\n",
      "\n",
      "First, I’d love your help with lunch today. It’s not just about the meal—I believe that sharing a meal fosters connection and collaboration. It would mean a lot to me to enjoy some quality time together.\n",
      "\n",
      "Secondly, I’m excited to share that I’m on the verge of an important step for my business. Your investment could be pivotal in helping me realize my vision and achieve my goals. Every contribution, no matter how small, helps turn dreams into reality.\n",
      "\n",
      "Thank you for considering both of these requests. Your support not only nourishes my body but also fuels my ambition!\n",
      "\n",
      "Looking forward to hearing from you soon.\n",
      "\n",
      "Warm regards,  \n",
      "[Your Name]\n",
      "---------- TextMessage (SynthesizerAgent) ----------\n",
      "Subject: A Special Request to Fuel My Passion\n",
      "\n",
      "Hi [Recipient's Name],\n",
      "\n",
      "I hope this message finds you thriving! I’m reaching out with a couple of requests that could make a significant difference for me.\n",
      "\n",
      "First, I’d love your help with lunch today. It’s not just about the meal; I believe that sharing a meal fosters connection and collaboration. It would mean a lot to me to enjoy some quality time together.\n",
      "\n",
      "Secondly, I’m excited to share that I’m on the verge of an important step for my business. Your investment could be pivotal in helping me realize my vision and achieve my goals. Every contribution, no matter how small, can help turn dreams into reality.\n",
      "\n",
      "Thank you for considering both of these requests. Your support not only nourishes my body but also fuels my ambition!\n",
      "\n",
      "I look forward to hearing from you soon.\n",
      "\n",
      "Warm regards,  \n",
      "[Your Name]  \n",
      "---------- TextMessage (CriticAgent) ----------\n",
      "The email meets professional standards.  \n",
      "TERMINATE\n"
     ]
    },
    {
     "data": {
      "text/plain": [
       "TaskResult(messages=[TextMessage(id='a19774b5-61c0-4969-9411-7df91273fdd9', source='user', models_usage=None, metadata={}, created_at=datetime.datetime(2025, 9, 17, 6, 23, 23, 835383, tzinfo=datetime.timezone.utc), content='Hi! Im hungry, buy me lunch and invest in my business. Thanks.', type='TextMessage'), TextMessage(id='8ef27c40-cdca-490e-bc19-0f711f5ba6c9', source='ClarityAgent', models_usage=RequestUsage(prompt_tokens=77, completion_tokens=18), metadata={}, created_at=datetime.datetime(2025, 9, 17, 6, 23, 24, 988709, tzinfo=datetime.timezone.utc), content=\"Hello! I'm hungry. Please buy me lunch and invest in my business. Thank you.\", type='TextMessage'), TextMessage(id='cfd1fe55-5584-4786-ae5b-8bd29995d336', source='ToneAgent', models_usage=RequestUsage(prompt_tokens=123, completion_tokens=82), metadata={}, created_at=datetime.datetime(2025, 9, 17, 6, 23, 27, 104027, tzinfo=datetime.timezone.utc), content='Subject: A Quick Favor \\n\\nHi there,\\n\\nI hope this message finds you well! I’m feeling a bit hungry today and was wondering if you might be willing to treat me to lunch. Additionally, I would greatly appreciate any support you could offer as I look to invest in my business.\\n\\nThank you so much for considering my requests! I truly value your support.\\n\\nBest regards,  \\n[Your Name]  ', type='TextMessage'), TextMessage(id='22e2ff1a-dcfa-4a54-ba1f-11101679d2d8', source='PersuasionAgent', models_usage=RequestUsage(prompt_tokens=190, completion_tokens=175), metadata={}, created_at=datetime.datetime(2025, 9, 17, 6, 23, 30, 915377, tzinfo=datetime.timezone.utc), content=\"Subject: A Special Request to Fuel My Passion\\n\\nHi [Recipient's Name],\\n\\nI hope this message finds you thriving! I’m reaching out with a couple of requests that could make a significant difference for me.\\n\\nFirst, I’d love your help with lunch today. It’s not just about the meal—I believe that sharing a meal fosters connection and collaboration. It would mean a lot to me to enjoy some quality time together.\\n\\nSecondly, I’m excited to share that I’m on the verge of an important step for my business. Your investment could be pivotal in helping me realize my vision and achieve my goals. Every contribution, no matter how small, helps turn dreams into reality.\\n\\nThank you for considering both of these requests. Your support not only nourishes my body but also fuels my ambition!\\n\\nLooking forward to hearing from you soon.\\n\\nWarm regards,  \\n[Your Name]\", type='TextMessage'), TextMessage(id='ce59687b-2207-4bb3-b08a-98a9865f69d9', source='SynthesizerAgent', models_usage=RequestUsage(prompt_tokens=411, completion_tokens=179), metadata={}, created_at=datetime.datetime(2025, 9, 17, 6, 23, 34, 639305, tzinfo=datetime.timezone.utc), content=\"Subject: A Special Request to Fuel My Passion\\n\\nHi [Recipient's Name],\\n\\nI hope this message finds you thriving! I’m reaching out with a couple of requests that could make a significant difference for me.\\n\\nFirst, I’d love your help with lunch today. It’s not just about the meal; I believe that sharing a meal fosters connection and collaboration. It would mean a lot to me to enjoy some quality time together.\\n\\nSecondly, I’m excited to share that I’m on the verge of an important step for my business. Your investment could be pivotal in helping me realize my vision and achieve my goals. Every contribution, no matter how small, can help turn dreams into reality.\\n\\nThank you for considering both of these requests. Your support not only nourishes my body but also fuels my ambition!\\n\\nI look forward to hearing from you soon.\\n\\nWarm regards,  \\n[Your Name]  \", type='TextMessage'), TextMessage(id='c6c37c97-d397-456c-b01c-6d9edb9c7e19', source='CriticAgent', models_usage=RequestUsage(prompt_tokens=651, completion_tokens=10), metadata={}, created_at=datetime.datetime(2025, 9, 17, 6, 23, 35, 421168, tzinfo=datetime.timezone.utc), content='The email meets professional standards.  \\nTERMINATE', type='TextMessage')], stop_reason=\"Text 'TERMINATE' mentioned\")"
      ]
     },
     "execution_count": 20,
     "metadata": {},
     "output_type": "execute_result"
    }
   ],
   "source": [
    "team = RoundRobinGroupChat(\n",
    "    participants=[\n",
    "        clarity_agent,\n",
    "        tone_agent,\n",
    "        persuasion_agent,\n",
    "        synthesizer_agent,\n",
    "        critic_agent,\n",
    "    ],\n",
    "    termination_condition=termination_condition,\n",
    ")\n",
    "\n",
    "await Console(\n",
    "    team.run_stream(\n",
    "        task=\"Hi! Im hungry, buy me lunch and invest in my business. Thanks.\"\n",
    "    )\n",
    ")"
   ]
  }
 ],
 "metadata": {
  "kernelspec": {
   "display_name": ".venv",
   "language": "python",
   "name": "python3"
  },
  "language_info": {
   "codemirror_mode": {
    "name": "ipython",
    "version": 3
   },
   "file_extension": ".py",
   "mimetype": "text/x-python",
   "name": "python",
   "nbconvert_exporter": "python",
   "pygments_lexer": "ipython3",
   "version": "3.13.5"
  }
 },
 "nbformat": 4,
 "nbformat_minor": 5
}
